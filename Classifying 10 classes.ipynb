{
 "cells": [
  {
   "cell_type": "code",
   "execution_count": 1,
   "metadata": {},
   "outputs": [],
   "source": [
    "#imports\n",
    "import torch\n",
    "import cv2\n",
    "import pandas as pd\n",
    "import numpy as np\n",
    "from PIL import Image\n",
    "from sklearn.model_selection import train_test_split\n",
    "from sklearn.preprocessing import StandardScaler\n",
    "import matplotlib.pyplot as plt\n",
    "import torch.nn as nn\n",
    "import torch.nn.functional as F\n",
    "import torch.optim as optim"
   ]
  },
  {
   "cell_type": "code",
   "execution_count": 2,
   "metadata": {},
   "outputs": [],
   "source": [
    "#given code\n",
    "def image_arrs(paths, im_arr):\n",
    "    for path in paths:\n",
    "        image = cv2.imread(path)\n",
    "        image_from_array = Image.fromarray(image, 'RGB')\n",
    "        #resize\n",
    "        size_image = image_from_array.resize((30,30))\n",
    "        image_arr = np.array(size_image.getdata(),np.uint8).reshape(size_image.size[1], size_image.size[0],3)\n",
    "        im_arr.append(image_arr.flatten())\n",
    "    return im_arr"
   ]
  },
  {
   "cell_type": "code",
   "execution_count": 3,
   "metadata": {},
   "outputs": [],
   "source": [
    "df = pd.read_csv('Train.csv')\n",
    "\n",
    "paths1 = df[(df['ClassId'] ==1)]['Path'].values\n",
    "paths2 = df[(df['ClassId'] ==2)]['Path'].values\n",
    "paths3 = df[(df['ClassId'] ==3)]['Path'].values\n",
    "paths4 = df[(df['ClassId'] ==4)]['Path'].values\n",
    "paths5 = df[(df['ClassId'] ==5)]['Path'].values\n",
    "paths6 = df[(df['ClassId'] ==6)]['Path'].values\n",
    "paths7 = df[(df['ClassId'] ==7)]['Path'].values\n",
    "paths8 = df[(df['ClassId'] ==8)]['Path'].values\n",
    "paths9 = df[(df['ClassId'] ==9)]['Path'].values\n",
    "paths10 = df[(df['ClassId'] ==10)]['Path'].values\n",
    "\n",
    "class1_arrs = []\n",
    "class1_arrs = image_arrs(paths1, class1_arrs)\n",
    "\n",
    "class2_arrs = []\n",
    "class2_arrs = image_arrs(paths2, class2_arrs)\n",
    "\n",
    "class3_arrs = []\n",
    "class3_arrs = image_arrs(paths3, class3_arrs)\n",
    "\n",
    "class4_arrs = []\n",
    "class4_arrs = image_arrs(paths4, class4_arrs)\n",
    "\n",
    "class5_arrs = []\n",
    "class5_arrs = image_arrs(paths5, class5_arrs)\n",
    "\n",
    "class6_arrs = []\n",
    "class6_arrs = image_arrs(paths6, class6_arrs)\n",
    "\n",
    "class7_arrs = []\n",
    "class7_arrs = image_arrs(paths7, class7_arrs)\n",
    "\n",
    "class8_arrs = []\n",
    "class8_arrs = image_arrs(paths8, class8_arrs)\n",
    "\n",
    "class9_arrs = []\n",
    "class9_arrs = image_arrs(paths9, class9_arrs)\n",
    "\n",
    "class10_arrs = []\n",
    "class10_arrs = image_arrs(paths10, class10_arrs)\n"
   ]
  },
  {
   "cell_type": "code",
   "execution_count": 4,
   "metadata": {},
   "outputs": [],
   "source": [
    "X = class1_arrs + class2_arrs + class3_arrs + class4_arrs + class5_arrs + class6_arrs \\\n",
    "        + class7_arrs + class8_arrs + class9_arrs + class10_arrs\n",
    "y = (len(class1_arrs)*[0]) + (len(class2_arrs)*[1]) + (len(class3_arrs)*[2]) + (len(class4_arrs)*[3]) + \\\n",
    "        (len(class5_arrs)*[4]) + (len(class6_arrs)*[5]) + (len(class7_arrs)*[6]) + (len(class8_arrs)*[7]) \\\n",
    "        + (len(class9_arrs)*[8]) + (len(class10_arrs)*[9])"
   ]
  },
  {
   "cell_type": "code",
   "execution_count": 5,
   "metadata": {},
   "outputs": [],
   "source": [
    "X_train, X_test, y_train, y_test = train_test_split(np.array(X), np.array(y), test_size=0.2, random_state = 0)"
   ]
  },
  {
   "cell_type": "code",
   "execution_count": 6,
   "metadata": {},
   "outputs": [
    {
     "name": "stdout",
     "output_type": "stream",
     "text": [
      "[ 88 150 142  41  92  79 186 255 255  57]\n",
      "[30 32 32 33 34 33 44 45 43 62]\n",
      "[ 0.15489286  1.00488422  0.87876101 -0.47307698  0.21156901  0.0112295\n",
      "  1.45942137  2.42752187  2.41155529 -0.26284777]\n",
      "[-0.62202965 -0.60788137 -0.63167396 -0.57999813 -0.57924894 -0.6208428\n",
      " -0.43474491 -0.42931788 -0.48719386 -0.19603754]\n"
     ]
    }
   ],
   "source": [
    "#scale the data with standard scaler\n",
    "print(X_train[0][:10])\n",
    "print(X_test[0][:10])\n",
    "sc = StandardScaler()\n",
    "X_train = sc.fit_transform(X_train)\n",
    "X_test = sc.transform(X_test)\n",
    "print(X_train[0][:10])\n",
    "print(X_test[0][:10])"
   ]
  },
  {
   "cell_type": "code",
   "execution_count": 7,
   "metadata": {},
   "outputs": [],
   "source": [
    "#given code - convert from np array to tensor\n",
    "X_train = torch.from_numpy(X_train).float()\n",
    "y_train = torch.from_numpy(y_train).long()\n",
    "X_test = torch.from_numpy(X_test).float()\n",
    "y_test = torch.from_numpy(y_test).long()"
   ]
  },
  {
   "cell_type": "code",
   "execution_count": 8,
   "metadata": {},
   "outputs": [
    {
     "name": "stdout",
     "output_type": "stream",
     "text": [
      "13176\n"
     ]
    }
   ],
   "source": [
    "train_data = [(X_train[i], y_train[i]) for i in range(len(X_train))]\n",
    "test_data = [(X_test[i], y_test[i]) for i in range(len(X_test))]\n",
    "\n",
    "print(len(train_data))\n",
    "\n",
    "#18 24 27 36 54"
   ]
  },
  {
   "cell_type": "code",
   "execution_count": 9,
   "metadata": {},
   "outputs": [],
   "source": [
    "#create training and testing sets\n",
    "   \n",
    "trainset = torch.utils.data.DataLoader(train_data, batch_size=36, shuffle=True)\n",
    "testset = torch.utils.data.DataLoader(test_data, batch_size=36, shuffle=True)"
   ]
  },
  {
   "cell_type": "code",
   "execution_count": 10,
   "metadata": {},
   "outputs": [
    {
     "name": "stdout",
     "output_type": "stream",
     "text": [
      "<torch.utils.data.dataloader.DataLoader object at 0x1a29ff32b0>\n"
     ]
    }
   ],
   "source": [
    "print(trainset)"
   ]
  },
  {
   "cell_type": "code",
   "execution_count": 11,
   "metadata": {},
   "outputs": [
    {
     "name": "stdout",
     "output_type": "stream",
     "text": [
      "366\n"
     ]
    }
   ],
   "source": [
    "total = 0\n",
    "for each in trainset:\n",
    "    total += 1\n",
    "print(total)"
   ]
  },
  {
   "cell_type": "code",
   "execution_count": 12,
   "metadata": {},
   "outputs": [
    {
     "name": "stderr",
     "output_type": "stream",
     "text": [
      "Clipping input data to the valid range for imshow with RGB data ([0..1] for floats or [0..255] for integers).\n"
     ]
    },
    {
     "name": "stdout",
     "output_type": "stream",
     "text": [
      "tensor(6)\n"
     ]
    },
    {
     "data": {
      "image/png": "[encoded data removed]",
      "text/plain": [
       "<Figure size 432x288 with 1 Axes>"
      ]
     },
     "metadata": {
      "needs_background": "light"
     },
     "output_type": "display_data"
    }
   ],
   "source": [
    "x, y = each[0][5], each[1][5]\n",
    "print(y)\n",
    "plt.imshow(x.view(30,30,3))\n",
    "plt.show()"
   ]
  },
  {
   "cell_type": "markdown",
   "metadata": {},
   "source": [
    "<h3> Building NN"
   ]
  },
  {
   "cell_type": "code",
   "execution_count": 37,
   "metadata": {},
   "outputs": [],
   "source": [
    "class Net(nn.Module):\n",
    "    def __init__(self):\n",
    "        super().__init__()\n",
    "        self.fc1 = nn.Linear(2700,60)\n",
    "        self.fc2 = nn.Linear(60,60)\n",
    "        self.fc4 = nn.Linear(60,60)\n",
    "        self.fc5 = nn.Linear(60,30)\n",
    "        self.fc6 = nn.Linear(30,10)\n",
    "        \n",
    "    def forward(self, x):\n",
    "        x = F.relu(self.fc1(x))\n",
    "        x = F.relu(self.fc2(x))\n",
    "        x = F.relu(self.fc4(x))\n",
    "        x = F.relu(self.fc5(x))\n",
    "        x = self.fc6(x)\n",
    "        \n",
    "        return F.log_softmax(x, dim=1)\n",
    "    \n",
    "net = Net()"
   ]
  },
  {
   "cell_type": "code",
   "execution_count": 38,
   "metadata": {
    "scrolled": true
   },
   "outputs": [
    {
     "name": "stdout",
     "output_type": "stream",
     "text": [
      "tensor(2.1360, grad_fn=<NllLossBackward>)\n",
      "tensor(0.9729, grad_fn=<NllLossBackward>)\n",
      "tensor(0.3695, grad_fn=<NllLossBackward>)\n",
      "tensor(0.2953, grad_fn=<NllLossBackward>)\n",
      "tensor(0.2824, grad_fn=<NllLossBackward>)\n",
      "tensor(0.3396, grad_fn=<NllLossBackward>)\n",
      "tensor(0.1000, grad_fn=<NllLossBackward>)\n",
      "tensor(0.3463, grad_fn=<NllLossBackward>)\n",
      "tensor(0.1589, grad_fn=<NllLossBackward>)\n",
      "tensor(0.1388, grad_fn=<NllLossBackward>)\n",
      "tensor(0.0334, grad_fn=<NllLossBackward>)\n",
      "tensor(0.0532, grad_fn=<NllLossBackward>)\n",
      "tensor(0.0699, grad_fn=<NllLossBackward>)\n",
      "tensor(0.1100, grad_fn=<NllLossBackward>)\n",
      "tensor(0.0607, grad_fn=<NllLossBackward>)\n",
      "tensor(0.0174, grad_fn=<NllLossBackward>)\n",
      "tensor(0.0934, grad_fn=<NllLossBackward>)\n",
      "tensor(0.2970, grad_fn=<NllLossBackward>)\n",
      "tensor(0.2429, grad_fn=<NllLossBackward>)\n",
      "tensor(0.0054, grad_fn=<NllLossBackward>)\n",
      "Train Acc 0.9955980777740479\n",
      "Test Acc 0.9335154891014099\n"
     ]
    }
   ],
   "source": [
    "optimizer = optim.Adam(net.parameters(), lr=0.00004, weight_decay=0.00005)\n",
    "criterion = nn.CrossEntropyLoss()\n",
    "\n",
    "EPOCHS = 200\n",
    "loss_vals = []\n",
    "train_accs= []\n",
    "test_accs = []\n",
    "correct1 = 0\n",
    "total1 = 0\n",
    "correct2 = 0\n",
    "total2 = 0\n",
    "\n",
    "for epoch in range(EPOCHS):\n",
    "    for data in trainset:\n",
    "        X,y = data\n",
    "        #want gradient to be 0 each time\n",
    "        net.zero_grad()\n",
    "        output = net(X.view(-1,2700))\n",
    "        loss = criterion(output, y)\n",
    "        #backpropagating the loss\n",
    "        loss.backward()\n",
    "        #taking the steps to decrease loss\n",
    "        optimizer.step()\n",
    "    if epoch%10 == 0: print(loss)\n",
    "    loss_vals.append(loss)\n",
    "    \n",
    "    pred = net.forward(X_train)\n",
    "    pred = torch.argmax(pred, axis=1)\n",
    "    train_acc = torch.sum(pred==y_train).float()/len(pred)\n",
    "#         print('training accuracy:', train_acc.item())\n",
    "    train_accs.append(train_acc.item())\n",
    "    test_pred = net.forward(X_test)\n",
    "    test_pred = torch.argmax(test_pred, axis=1)\n",
    "    test_acc = torch.sum(test_pred==y_test).float()/len(test_pred)\n",
    "#         print('test accuracy:', test_acc.item())\n",
    "    test_accs.append(test_acc.item())\n",
    "    \n",
    "print('Train Acc', train_accs[-1])\n",
    "print('Test Acc', test_accs[-1])"
   ]
  },
  {
   "cell_type": "code",
   "execution_count": 39,
   "metadata": {},
   "outputs": [
    {
     "data": {
      "text/plain": [
       "[<matplotlib.lines.Line2D at 0x1a2b4af5c0>]"
      ]
     },
     "execution_count": 39,
     "metadata": {},
     "output_type": "execute_result"
    },
    {
     "data": {
      "image/png": "[encoded data removed]",
      "text/plain": [
       "<Figure size 432x288 with 1 Axes>"
      ]
     },
     "metadata": {
      "needs_background": "light"
     },
     "output_type": "display_data"
    }
   ],
   "source": [
    "plt.plot(loss_vals)"
   ]
  },
  {
   "cell_type": "code",
   "execution_count": 40,
   "metadata": {},
   "outputs": [
    {
     "data": {
      "image/png": "[encoded data removed]",
      "text/plain": [
       "<Figure size 432x288 with 1 Axes>"
      ]
     },
     "metadata": {
      "needs_background": "light"
     },
     "output_type": "display_data"
    }
   ],
   "source": [
    "plt.plot(train_accs, label='Train Accuracy')\n",
    "plt.plot(test_accs, label='Test Accuracy')\n",
    "plt.show()"
   ]
  },
  {
   "cell_type": "code",
   "execution_count": 41,
   "metadata": {},
   "outputs": [
    {
     "name": "stdout",
     "output_type": "stream",
     "text": [
      "Train Accuracy:  0.996\n",
      "Test accuracy:  0.934\n"
     ]
    }
   ],
   "source": [
    "#see training accuracy\n",
    "correct = 0\n",
    "total = 0\n",
    "\n",
    "with torch.no_grad():\n",
    "    \n",
    "    for data in trainset:\n",
    "        X,y = data\n",
    "        output = net(X.view(-1, 2700))\n",
    "        for idx, i in enumerate(output):\n",
    "            if torch.argmax(i) == y[idx]:\n",
    "                correct+=1\n",
    "            total+=1\n",
    "\n",
    "print('Train Accuracy: ', round(correct/total, 3))\n",
    "\n",
    "#for test\n",
    "correct = 0\n",
    "total = 0\n",
    "test_accs = []\n",
    "\n",
    "with torch.no_grad():\n",
    "    for data in testset:\n",
    "        X,y = data\n",
    "        output = net(X.view(-1,2700))\n",
    "        for idx, i in enumerate(output):\n",
    "            if torch.argmax(i) == y[idx]:\n",
    "                correct+=1\n",
    "            total+=1\n",
    "        test_accs.append(correct/total)\n",
    "\n",
    "print('Test accuracy: ', round(correct/total, 3))"
   ]
  },
  {
   "cell_type": "code",
   "execution_count": null,
   "metadata": {},
   "outputs": [],
   "source": []
  },
  {
   "cell_type": "code",
   "execution_count": null,
   "metadata": {},
   "outputs": [],
   "source": []
  }
 ],
 "metadata": {
  "kernelspec": {
   "display_name": "Python 3",
   "language": "python",
   "name": "python3"
  },
  "language_info": {
   "codemirror_mode": {
    "name": "ipython",
    "version": 3
   },
   "file_extension": ".py",
   "mimetype": "text/x-python",
   "name": "python",
   "nbconvert_exporter": "python",
   "pygments_lexer": "ipython3",
   "version": "3.7.3"
  }
 },
 "nbformat": 4,
 "nbformat_minor": 2
}
