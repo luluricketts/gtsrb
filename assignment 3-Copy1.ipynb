{
 "cells": [
  {
   "cell_type": "code",
   "execution_count": 1,
   "metadata": {},
   "outputs": [],
   "source": [
    "import torch\n",
    "import cv2\n",
    "import pandas as pd\n",
    "import numpy as np\n",
    "from PIL import Image\n",
    "from sklearn.model_selection import train_test_split\n",
    "from sklearn.preprocessing import StandardScaler\n",
    "import matplotlib.pyplot as plt\n",
    "import torch.nn as nn\n",
    "import torch.nn.functional as F\n",
    "import torch.optim as optim"
   ]
  },
  {
   "cell_type": "code",
   "execution_count": 2,
   "metadata": {},
   "outputs": [],
   "source": [
    "#reading in images to arrays\n",
    "def image_arrs(paths, im_arr):\n",
    "    for path in paths:\n",
    "        image = cv2.imread(path)\n",
    "        image_from_array = Image.fromarray(image, 'RGB')\n",
    "        #resize\n",
    "        size_image = image_from_array.resize((30,30))\n",
    "        image_arr = np.array(size_image.getdata(),np.uint8).reshape(size_image.size[1], size_image.size[0],3)\n",
    "        im_arr.append(image_arr.flatten())\n",
    "    return im_arr"
   ]
  },
  {
   "cell_type": "code",
   "execution_count": 3,
   "metadata": {},
   "outputs": [],
   "source": [
    "#given code\n",
    "#all file paths from classes 1-5\n",
    "df = pd.read_csv('Train.csv')\n",
    "\n",
    "paths1 = df[(df['ClassId'] ==1)]['Path'].values\n",
    "paths2 = df[(df['ClassId'] ==2)]['Path'].values\n",
    "paths3 = df[(df['ClassId'] ==3)]['Path'].values\n",
    "paths4 = df[(df['ClassId'] ==4)]['Path'].values\n",
    "paths5 = df[(df['ClassId'] ==5)]['Path'].values\n",
    "\n",
    "class1_arrs = []\n",
    "class1_arrs = image_arrs(paths1, class1_arrs)\n",
    "\n",
    "class2_arrs = []\n",
    "class2_arrs = image_arrs(paths2, class2_arrs)\n",
    "\n",
    "class3_arrs = []\n",
    "class3_arrs = image_arrs(paths3, class3_arrs)\n",
    "\n",
    "class4_arrs = []\n",
    "class4_arrs = image_arrs(paths4, class4_arrs)\n",
    "\n",
    "class5_arrs = []\n",
    "class5_arrs = image_arrs(paths5, class5_arrs)"
   ]
  },
  {
   "cell_type": "code",
   "execution_count": 4,
   "metadata": {},
   "outputs": [],
   "source": [
    "#given code\n",
    "#concat data/labels\n",
    "X = class1_arrs + class2_arrs + class3_arrs + class4_arrs + class5_arrs\n",
    "y = (len(class1_arrs)*[0]) + (len(class2_arrs)*[1]) + (len(class3_arrs)*[2]) + (len(class4_arrs)*[3]) \\\n",
    "        + (len(class5_arrs)*[4])\n"
   ]
  },
  {
   "cell_type": "code",
   "execution_count": 5,
   "metadata": {},
   "outputs": [],
   "source": [
    "#given code - split data\n",
    "X_train, X_test, y_train, y_test = train_test_split(np.array(X), np.array(y), test_size=0.2, random_state = 0)"
   ]
  },
  {
   "cell_type": "code",
   "execution_count": null,
   "metadata": {
    "scrolled": true
   },
   "outputs": [],
   "source": []
  },
  {
   "cell_type": "code",
   "execution_count": 9,
   "metadata": {},
   "outputs": [
    {
     "name": "stdout",
     "output_type": "stream",
     "text": [
      "[255 255 255 255 255 255 255 255 255 255]\n",
      "[77 75 74 78 75 73 83 79 83 86]\n",
      "[2.17613453 2.18862266 2.15660765 2.17372139 2.18763757 2.15522839\n",
      " 2.16848531 2.17943235 2.1348052  2.17871515]\n",
      "[-0.09824613 -0.15561599 -0.20655069 -0.08334241 -0.15359129 -0.22391741\n",
      " -0.02113209 -0.10096684 -0.0979058   0.01741677]\n"
     ]
    }
   ],
   "source": [
    "print(X_train[0][:10])\n",
    "print(X_test[0][:10])\n",
    "sc = StandardScaler()\n",
    "X_train = sc.fit_transform(X_train)\n",
    "X_test = sc.transform(X_test)\n",
    "print(X_train[0][:10])\n",
    "print(X_test[0][:10])"
   ]
  },
  {
   "cell_type": "code",
   "execution_count": 10,
   "metadata": {},
   "outputs": [],
   "source": [
    "#given code - convert from np array to tensor\n",
    "X_train = torch.from_numpy(X_train).float()\n",
    "y_train = torch.from_numpy(y_train).long()\n",
    "X_test = torch.from_numpy(X_test).float()\n",
    "y_test = torch.from_numpy(y_test).long()"
   ]
  },
  {
   "cell_type": "code",
   "execution_count": 11,
   "metadata": {},
   "outputs": [
    {
     "name": "stdout",
     "output_type": "stream",
     "text": [
      "7776\n"
     ]
    }
   ],
   "source": [
    "#create training and testing sets\n",
    "train_data = [(X_train[i], y_train[i]) for i in range(len(X_train))]\n",
    "test_data = [(X_test[i], y_test[i]) for i in range(len(X_test))]\n",
    "\n",
    "print(len(train_data))\n",
    "    \n",
    "trainset = torch.utils.data.DataLoader(train_data, batch_size=32, shuffle=True)\n",
    "testset = torch.utils.data.DataLoader(test_data, batch_size=32, shuffle=True)"
   ]
  },
  {
   "cell_type": "markdown",
   "metadata": {},
   "source": [
    "<h3> Build NN "
   ]
  },
  {
   "cell_type": "code",
   "execution_count": 12,
   "metadata": {},
   "outputs": [
    {
     "name": "stdout",
     "output_type": "stream",
     "text": [
      "Net(\n",
      "  (fc1): Linear(in_features=2700, out_features=30, bias=True)\n",
      "  (fc2): Linear(in_features=30, out_features=60, bias=True)\n",
      "  (fc4): Linear(in_features=60, out_features=90, bias=True)\n",
      "  (fc5): Linear(in_features=90, out_features=5, bias=True)\n",
      ")\n"
     ]
    }
   ],
   "source": [
    "class Net(nn.Module):\n",
    "    \n",
    "    #define layers\n",
    "    def __init__(self):\n",
    "        super().__init__()\n",
    "        self.fc1 = nn.Linear(2700, 30)\n",
    "        self.fc2 = nn.Linear(30,60)\n",
    "        self.fc4 = nn.Linear(60,90)\n",
    "        self.fc5 = nn.Linear(90,5)\n",
    "        \n",
    "    #passing through each layer\n",
    "    def forward(self, x):\n",
    "        x = F.relu(self.fc1(x))\n",
    "        x = F.relu(self.fc2(x))\n",
    "        x = F.relu(self.fc4(x))\n",
    "        x = self.fc5(x)\n",
    "    \n",
    "        return F.log_softmax(x, dim=1)\n",
    "        \n",
    "        \n",
    "net = Net()\n",
    "print(net)"
   ]
  },
  {
   "cell_type": "code",
   "execution_count": 13,
   "metadata": {},
   "outputs": [
    {
     "name": "stdout",
     "output_type": "stream",
     "text": [
      "tensor([[-1.6271, -1.5803, -1.5760, -1.6083, -1.6578]],\n",
      "       grad_fn=<LogSoftmaxBackward>)\n"
     ]
    }
   ],
   "source": [
    "#random input to make sure it works\n",
    "randoms = torch.rand(2700)\n",
    "randoms = randoms.view(-1, 2700)\n",
    "\n",
    "output = net(randoms)\n",
    "print(output)"
   ]
  },
  {
   "cell_type": "code",
   "execution_count": 14,
   "metadata": {},
   "outputs": [
    {
     "data": {
      "text/plain": [
       "device(type='cpu')"
      ]
     },
     "execution_count": 14,
     "metadata": {},
     "output_type": "execute_result"
    }
   ],
   "source": [
    "device = torch.device(\"cuda:0\" if torch.cuda.is_available() else \"cpu\")\n",
    "device"
   ]
  },
  {
   "cell_type": "code",
   "execution_count": 902,
   "metadata": {
    "scrolled": false
   },
   "outputs": [
    {
     "name": "stdout",
     "output_type": "stream",
     "text": [
      "tensor(1.3606, grad_fn=<NllLossBackward>)\n",
      "tensor(0.5263, grad_fn=<NllLossBackward>)\n",
      "tensor(0.2446, grad_fn=<NllLossBackward>)\n",
      "tensor(0.1852, grad_fn=<NllLossBackward>)\n",
      "tensor(0.0974, grad_fn=<NllLossBackward>)\n",
      "tensor(0.0266, grad_fn=<NllLossBackward>)\n",
      "tensor(0.0191, grad_fn=<NllLossBackward>)\n",
      "tensor(0.0095, grad_fn=<NllLossBackward>)\n",
      "tensor(0.0038, grad_fn=<NllLossBackward>)\n",
      "tensor(0.0251, grad_fn=<NllLossBackward>)\n",
      "tensor(0.0080, grad_fn=<NllLossBackward>)\n",
      "tensor(0.0028, grad_fn=<NllLossBackward>)\n",
      "tensor(0.0020, grad_fn=<NllLossBackward>)\n",
      "tensor(0.0210, grad_fn=<NllLossBackward>)\n",
      "tensor(0.0051, grad_fn=<NllLossBackward>)\n"
     ]
    }
   ],
   "source": [
    "optimizer = optim.Adam(net.parameters(), lr=0.000075, weight_decay=0.00005)\n",
    "criterion = nn.CrossEntropyLoss()\n",
    "\n",
    "EPOCHS = 150\n",
    "loss_vals = []\n",
    "\n",
    "for epoch in range(EPOCHS):\n",
    "    for data in trainset:\n",
    "        X,y = data\n",
    "        #want gradient to be 0 each time\n",
    "        net.zero_grad()\n",
    "        output = net(X.view(-1,2700))\n",
    "        loss = criterion(output, y)\n",
    "        #backpropagating the loss\n",
    "        loss.backward()\n",
    "        #taking the steps to decrease loss\n",
    "        optimizer.step()\n",
    "    if epoch%10 == 0: print(loss)\n",
    "    loss_vals.append(loss)\n",
    "        "
   ]
  },
  {
   "cell_type": "code",
   "execution_count": 903,
   "metadata": {
    "scrolled": true
   },
   "outputs": [
    {
     "data": {
      "text/plain": [
       "[<matplotlib.lines.Line2D at 0x1a3bdde7f0>]"
      ]
     },
     "execution_count": 903,
     "metadata": {},
     "output_type": "execute_result"
    },
    {
     "data": {
      "image/png": "[encoded data removed]",
      "text/plain": [
       "<Figure size 432x288 with 1 Axes>"
      ]
     },
     "metadata": {
      "needs_background": "light"
     },
     "output_type": "display_data"
    }
   ],
   "source": [
    "plt.plot(range(len(loss_vals)), loss_vals)"
   ]
  },
  {
   "cell_type": "code",
   "execution_count": null,
   "metadata": {},
   "outputs": [],
   "source": []
  },
  {
   "cell_type": "code",
   "execution_count": 914,
   "metadata": {},
   "outputs": [
    {
     "name": "stdout",
     "output_type": "stream",
     "text": [
      "Train Accuracy 0.999\n"
     ]
    }
   ],
   "source": [
    "#see training accuracy\n",
    "correct = 0\n",
    "total = 0\n",
    "\n",
    "with torch.no_grad():\n",
    "    for data in trainset:\n",
    "        X,y = data\n",
    "        output = net(X.view(-1, 2700))\n",
    "        for idx, i in enumerate(output):\n",
    "            if torch.argmax(i) == y[idx]:\n",
    "                correct+=1\n",
    "            total+=1\n",
    "\n",
    "print('Train Accuracy', round(correct/total, 3))\n"
   ]
  },
  {
   "cell_type": "code",
   "execution_count": 915,
   "metadata": {},
   "outputs": [
    {
     "name": "stdout",
     "output_type": "stream",
     "text": [
      "Test accuracy 0.942\n"
     ]
    }
   ],
   "source": [
    "#for test\n",
    "correct = 0\n",
    "total = 0\n",
    "\n",
    "with torch.no_grad():\n",
    "    for data in testset:\n",
    "        X,y = data\n",
    "        output = net(X.view(-1,2700))\n",
    "        for idx, i in enumerate(output):\n",
    "            if torch.argmax(i) == y[idx]:\n",
    "                correct+=1\n",
    "            total+=1\n",
    "\n",
    "print('Test accuracy', round(correct/total, 3))"
   ]
  },
  {
   "cell_type": "code",
   "execution_count": null,
   "metadata": {},
   "outputs": [],
   "source": []
  },
  {
   "cell_type": "code",
   "execution_count": null,
   "metadata": {},
   "outputs": [],
   "source": []
  }
 ],
 "metadata": {
  "kernelspec": {
   "display_name": "Python 3",
   "language": "python",
   "name": "python3"
  },
  "language_info": {
   "codemirror_mode": {
    "name": "ipython",
    "version": 3
   },
   "file_extension": ".py",
   "mimetype": "text/x-python",
   "name": "python",
   "nbconvert_exporter": "python",
   "pygments_lexer": "ipython3",
   "version": "3.7.3"
  }
 },
 "nbformat": 4,
 "nbformat_minor": 2
}
